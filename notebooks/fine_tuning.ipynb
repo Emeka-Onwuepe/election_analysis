{
 "cells": [
  {
   "cell_type": "code",
   "execution_count": 7,
   "id": "a72f7a9d-9443-4462-9d6b-9fe870f37d55",
   "metadata": {},
   "outputs": [],
   "source": [
    "data_dir = './train_images/good'\n",
    "\n",
    "import os\n",
    "import math\n",
    "import imgaug\n",
    "import numpy as np\n",
    "import matplotlib.pyplot as plt\n",
    "import sklearn.model_selection\n",
    "import tensorflow as tf\n",
    "\n",
    "import keras_ocr\n",
    "\n"
   ]
  },
  {
   "cell_type": "code",
   "execution_count": 2,
   "id": "01076654-2f64-4c04-860b-811313346adc",
   "metadata": {},
   "outputs": [
    {
     "name": "stdout",
     "output_type": "stream",
     "text": [
      "Looking for .\\icdar2013\\Challenge2_Training_Task12_Images.zip\n",
      "Looking for .\\icdar2013\\Challenge2_Training_Task2_GT.zip\n"
     ]
    }
   ],
   "source": [
    "dataset = keras_ocr.datasets.get_icdar_2013_detector_dataset(\n",
    "    cache_dir='.',\n",
    "    skip_illegible=False\n",
    ")"
   ]
  },
  {
   "cell_type": "code",
   "execution_count": 9,
   "id": "5a7b4d95-c72e-4fdd-86ee-671b88fee328",
   "metadata": {},
   "outputs": [],
   "source": [
    "dataset = [\n",
    "    keras_ocr.tools.read(f'{data_dir}/{img}') for img in os.listdir(data_dir)\n",
    "]"
   ]
  },
  {
   "cell_type": "code",
   "execution_count": 10,
   "id": "24e8b561-d906-4793-96b9-835ebfa1ea6f",
   "metadata": {},
   "outputs": [],
   "source": [
    "train, validation = sklearn.model_selection.train_test_split(\n",
    "    dataset, train_size=0.8, random_state=42\n",
    ")\n",
    "augmenter = imgaug.augmenters.Sequential([\n",
    "    imgaug.augmenters.Affine(\n",
    "    scale=(1.0, 1.2),\n",
    "    rotate=(-5, 5)\n",
    "    ),\n",
    "    imgaug.augmenters.GaussianBlur(sigma=(0, 0.5)),\n",
    "    imgaug.augmenters.Multiply((0.8, 1.2), per_channel=0.2)\n",
    "])\n",
    "generator_kwargs = {'width': 640, 'height': 640}\n",
    "training_image_generator = keras_ocr.datasets.get_detector_image_generator(\n",
    "    labels=train,\n",
    "    augmenter=augmenter,\n",
    "    **generator_kwargs\n",
    ")\n",
    "validation_image_generator = keras_ocr.datasets.get_detector_image_generator(\n",
    "    labels=validation,\n",
    "    **generator_kwargs\n",
    ")"
   ]
  },
  {
   "cell_type": "code",
   "execution_count": 11,
   "id": "57f246e7-8efd-4652-88bb-c55b67b42aaf",
   "metadata": {},
   "outputs": [
    {
     "ename": "ValueError",
     "evalue": "too many values to unpack (expected 3)",
     "output_type": "error",
     "traceback": [
      "\u001b[1;31m---------------------------------------------------------------------------\u001b[0m",
      "\u001b[1;31mValueError\u001b[0m                                Traceback (most recent call last)",
      "Cell \u001b[1;32mIn [11], line 1\u001b[0m\n\u001b[1;32m----> 1\u001b[0m image, lines, confidence \u001b[38;5;241m=\u001b[39m \u001b[38;5;28;43mnext\u001b[39;49m\u001b[43m(\u001b[49m\u001b[43mtraining_image_generator\u001b[49m\u001b[43m)\u001b[49m\n\u001b[0;32m      2\u001b[0m canvas \u001b[38;5;241m=\u001b[39m keras_ocr\u001b[38;5;241m.\u001b[39mtools\u001b[38;5;241m.\u001b[39mdrawBoxes(image\u001b[38;5;241m=\u001b[39mimage, boxes\u001b[38;5;241m=\u001b[39mlines, boxes_format\u001b[38;5;241m=\u001b[39m\u001b[38;5;124m'\u001b[39m\u001b[38;5;124mlines\u001b[39m\u001b[38;5;124m'\u001b[39m)\n\u001b[0;32m      3\u001b[0m plt\u001b[38;5;241m.\u001b[39mimshow(canvas)\n",
      "File \u001b[1;32m~\\anaconda3\\envs\\homl3\\lib\\site-packages\\keras_ocr\\datasets.py:382\u001b[0m, in \u001b[0;36mget_detector_image_generator\u001b[1;34m(labels, width, height, augmenter, area_threshold, focused, min_area, shuffle)\u001b[0m\n\u001b[0;32m    380\u001b[0m \u001b[38;5;28;01mif\u001b[39;00m index \u001b[38;5;241m==\u001b[39m \u001b[38;5;241m0\u001b[39m \u001b[38;5;129;01mand\u001b[39;00m shuffle:\n\u001b[0;32m    381\u001b[0m     random\u001b[38;5;241m.\u001b[39mshuffle(labels)\n\u001b[1;32m--> 382\u001b[0m image_filepath, lines, confidence \u001b[38;5;241m=\u001b[39m labels[index]\n\u001b[0;32m    383\u001b[0m image \u001b[38;5;241m=\u001b[39m tools\u001b[38;5;241m.\u001b[39mread(image_filepath)\n\u001b[0;32m    384\u001b[0m \u001b[38;5;28;01mif\u001b[39;00m augmenter \u001b[38;5;129;01mis\u001b[39;00m \u001b[38;5;129;01mnot\u001b[39;00m \u001b[38;5;28;01mNone\u001b[39;00m:\n",
      "\u001b[1;31mValueError\u001b[0m: too many values to unpack (expected 3)"
     ]
    }
   ],
   "source": [
    "image, lines, confidence = next(training_image_generator)\n",
    "canvas = keras_ocr.tools.drawBoxes(image=image, boxes=lines, boxes_format='lines')\n",
    "plt.imshow(canvas)"
   ]
  },
  {
   "cell_type": "code",
   "execution_count": null,
   "id": "88dd64aa-aeaf-4599-86a7-6ed65e3823e2",
   "metadata": {},
   "outputs": [],
   "source": [
    "detector = keras_ocr.detection.Detector()\n",
    "\n",
    "batch_size = 1\n",
    "training_generator, validation_generator = [\n",
    "    detector.get_batch_generator(\n",
    "        image_generator=image_generator, batch_size=batch_size\n",
    "    ) for image_generator in\n",
    "    [training_image_generator, validation_image_generator]\n",
    "]\n",
    "detector.model.fit_generator(\n",
    "    generator=training_generator,\n",
    "    steps_per_epoch=math.ceil(len(train) / batch_size),\n",
    "    epochs=1000,\n",
    "    workers=0,\n",
    "    callbacks=[\n",
    "        tf.keras.callbacks.EarlyStopping(restore_best_weights=True, patience=5),\n",
    "        tf.keras.callbacks.CSVLogger(os.path.join(data_dir, 'detector_icdar2013.csv')),\n",
    "        tf.keras.callbacks.ModelCheckpoint(filepath=os.path.join(data_dir, 'detector_icdar2013.h5'))\n",
    "    ],\n",
    "    validation_data=validation_generator,\n",
    "    validation_steps=math.ceil(len(validation) / batch_size)\n",
    ")"
   ]
  },
  {
   "cell_type": "code",
   "execution_count": null,
   "id": "2c33d97d-26d4-41c0-9323-bad8742a4972",
   "metadata": {},
   "outputs": [],
   "source": [
    "detector.model.load_weights(os.path.join(data_dir, 'detector_icdar2013.h5'))"
   ]
  },
  {
   "cell_type": "code",
   "execution_count": null,
   "id": "9edc1a6f-7d5c-4847-8e6c-ad742ce2264d",
   "metadata": {},
   "outputs": [],
   "source": []
  }
 ],
 "metadata": {
  "kernelspec": {
   "display_name": "Python 3 (ipykernel)",
   "language": "python",
   "name": "python3"
  },
  "language_info": {
   "codemirror_mode": {
    "name": "ipython",
    "version": 3
   },
   "file_extension": ".py",
   "mimetype": "text/x-python",
   "name": "python",
   "nbconvert_exporter": "python",
   "pygments_lexer": "ipython3",
   "version": "3.10.11"
  }
 },
 "nbformat": 4,
 "nbformat_minor": 5
}
